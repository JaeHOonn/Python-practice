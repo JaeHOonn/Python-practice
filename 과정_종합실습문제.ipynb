{
 "cells": [
  {
   "cell_type": "markdown",
   "id": "286f1399",
   "metadata": {
    "id": "710ee378"
   },
   "source": [
    "# 종합실습"
   ]
  },
  {
   "cell_type": "markdown",
   "id": "9d47ec1b",
   "metadata": {
    "id": "e30eb3da"
   },
   "source": [
    "## 과제1. 회원 관리 프로그램"
   ]
  },
  {
   "cell_type": "markdown",
   "id": "9f00993c",
   "metadata": {
    "id": "8e48b532"
   },
   "source": [
    "* 회원 이름과 이메일 주소를 입력받아 엑셀에 저장하는 프로그램을 만드시오.\n",
    "* 'members.xlsx’ 파일에는 이미 두명의 회원이 등록되어 있습니다. \n",
    "\n",
    "* 기본 기능  \n",
    "> * 이름, 이메일, 전화번호를 입력 받아 (한꺼번에 입력받아, 리스트로 만들어 처리. .split 활용)\n",
    "> * 엑셀 틀에 맞게 제일 마지막 행에 저장\n",
    "> * 단, 이메일 주소는 실제 메일 수신 가능해야 합니다.\n",
    "\n",
    "* 심화 기능\n",
    "> * 입력값 확인. 값이 3개,  쉼표로 구분된 값인지 확인.\n",
    "> * 회원 가입을 계속할지, 종료할지를 묻기"
   ]
  },
  {
   "cell_type": "code",
   "execution_count": 10,
   "id": "9d340054",
   "metadata": {},
   "outputs": [
    {
     "name": "stdout",
     "output_type": "stream",
     "text": [
      "이름 , 이메일, 전화번호를 입력하시오.(예:정재훈, 0000@naver.com , 010-0000-000)\n",
      "ㅇㅇㅇ , ㅇㅇㅇ , ㅇㅇㅇ\n"
     ]
    }
   ],
   "source": [
    "import openpyxl as xl \n",
    "\n",
    "print('이름 , 이메일, 전화번호를 입력하시오.(예:정재훈, 0000@naver.com , 010-0000-000)')\n",
    "\n",
    "inform = input()\n",
    "l1=inform.split(',')\n",
    "wb = xl.load_workbook('members.xlsx')\n",
    "s1=wb['Sheet1']\n",
    "        \n",
    "new_row=s1.max_row+1\n",
    "        \n",
    "s1.cell(new_row,1).value=l1[0].strip()\n",
    "s1.cell(new_row,2).value=l1[1].strip()\n",
    "s1.cell(new_row,3).value=l1[2].strip()\n",
    "        \n",
    "wb.save('members.xlsx')"
   ]
  },
  {
   "cell_type": "code",
   "execution_count": 8,
   "id": "f1a8c8c3",
   "metadata": {
    "id": "5bcbadaf",
    "scrolled": true
   },
   "outputs": [
    {
     "name": "stdout",
     "output_type": "stream",
     "text": [
      "이름 , 이메일, 전화번호를 입력하시오.(예:정재훈, 0000@naver.com , 010-0000-000)\n",
      "정재훈, h00nis@naver.com , 010-0000-000)\n"
     ]
    }
   ],
   "source": [
    "import openpyxl as xl \n",
    "\n",
    "print('이름 , 이메일, 전화번호를 입력하시오.(예:정재훈, 0000@naver.com , 010-0000-000)')\n",
    "while True : \n",
    "    \n",
    "    inform = input()\n",
    "    l1=inform.split(',')\n",
    "    if len(l1)!= 3 :\n",
    "        print('입력한 값이 형식에 맞지 않습니다.')\n",
    "        break\n",
    "    else : \n",
    "        wb = xl.load_workbook('members.xlsx')\n",
    "        s1=wb['Sheet1']\n",
    "        \n",
    "        new_row=s1.max_row+1\n",
    "        \n",
    "        s1.cell(new_row,1).value=l1[0].strip()\n",
    "        s1.cell(new_row,2).value=l1[1].strip()\n",
    "        s1.cell(new_row,3).value=l1[2].strip()\n",
    "        \n",
    "        wb.save('members.xlsx')\n",
    "    \n"
   ]
  },
  {
   "cell_type": "code",
   "execution_count": 3,
   "id": "30c3a98e",
   "metadata": {},
   "outputs": [],
   "source": []
  },
  {
   "cell_type": "markdown",
   "id": "a33bdf21",
   "metadata": {
    "id": "8f3a1740"
   },
   "source": [
    "## 과제2. 회원들에게 이메일 발송"
   ]
  },
  {
   "cell_type": "markdown",
   "id": "06d72bf7",
   "metadata": {
    "id": "7840678c"
   },
   "source": [
    "* 과제1에서 저장된 회원정보(members.xlsx)를 읽어서 회원 각각에게 이메일을 보내 봅시다.\n",
    "\n",
    "> * 제목 : “2021년 송년 인사”\n",
    "> * 내용 :  \n",
    ">     OOO 회원님 안녕하세요?  \n",
    "벌써 2021년도 저물어 가고 있습니다.  \n",
    "올 한해 정말 수고 많았습니다.   \n",
    "첨부한 커피 쿠폰으로 조금이나마 따뜻한 연말을 보내시기 바랍니다.  \n",
    "감사합니다. \n",
    "\n",
    "> * 회원마다 보내지는 이메일에서 각자 달라지는 것은,\t수신 이메일 주소, 메일 내용에서의 회원 이름 입니다."
   ]
  },
  {
   "cell_type": "code",
   "execution_count": 9,
   "id": "b3e43fe9",
   "metadata": {
    "id": "5c5a29a9"
   },
   "outputs": [
    {
     "data": {
      "text/plain": [
       "<bound method SMTP.quit of <smtplib.SMTP object at 0x00000253B3319FD0>>"
      ]
     },
     "execution_count": 9,
     "metadata": {},
     "output_type": "execute_result"
    }
   ],
   "source": [
    "import smtplib\n",
    "from email.mime.text import MIMEText\n",
    "\n",
    "wb=xl.load_workbook('members.xlsx')\n",
    "sl = wb['Sheet1']\n",
    "app_pw = 'swewvxcjuwtkgawt'\n",
    "my_email = \"h00nis.jh@gmail.com\"\n",
    "\n",
    "s = smtplib.SMTP('smtp.gmail.com',587)\n",
    "s.starttls()\n",
    "s.login(my_email,app_pw)\n",
    "\n",
    "for i in range(2,s1.max_row+1) :\n",
    "    name=s1.cell(i,1).value\n",
    "    email=s1.cell(i,2).value\n",
    "    \n",
    "    msg=MIMEText(f'''{name} 회원님 안녕하세요?\n",
    "벌써 2021년도 저물어 가고 있습니다.\n",
    "올 한해 정말 수고 많았습니다.\n",
    "첨부한 커피 쿠폰으로 조금이나마 따뜻한 연말을 보내시기 바랍니다.\n",
    "감사합니다.\n",
    "''')\n",
    "    msg['Subject'] = '2021년 송년 인사'\n",
    "    \n",
    "    s.sendmail(my_email, email , msg.as_string())\n",
    "s.quit"
   ]
  }
 ],
 "metadata": {
  "colab": {
   "collapsed_sections": [],
   "name": "과정_종합실습문제.ipynb",
   "provenance": []
  },
  "kernelspec": {
   "display_name": "Python 3",
   "language": "python",
   "name": "python3"
  },
  "language_info": {
   "codemirror_mode": {
    "name": "ipython",
    "version": 3
   },
   "file_extension": ".py",
   "mimetype": "text/x-python",
   "name": "python",
   "nbconvert_exporter": "python",
   "pygments_lexer": "ipython3",
   "version": "3.8.8"
  }
 },
 "nbformat": 4,
 "nbformat_minor": 5
}
